{
 "cells": [
  {
   "cell_type": "code",
   "execution_count": 1,
   "metadata": {},
   "outputs": [],
   "source": [
    "original_path = \"image_masking_SI/data/images\"\n",
    "\n",
    "u2net_path = \"Image-Masking/data/u2net_results\"\n",
    "isnet_path = \"image_masking_SI/data/is_net_results\"\n",
    "tracer_path = \"TRACER/mask/custom_dataset\""
   ]
  },
  {
   "cell_type": "code",
   "execution_count": 2,
   "metadata": {},
   "outputs": [],
   "source": [
    "import os"
   ]
  },
  {
   "cell_type": "code",
   "execution_count": 3,
   "metadata": {},
   "outputs": [
    {
     "name": "stdout",
     "output_type": "stream",
     "text": [
      "75\n"
     ]
    }
   ],
   "source": [
    "original_files = sorted(os.listdir(original_path))\n",
    "u2net_files = sorted(os.listdir(u2net_path))\n",
    "isnet_files=sorted(os.listdir(isnet_path))\n",
    "tracer_files=sorted(os.listdir(tracer_path))\n",
    "l = len(tracer_files)\n",
    "print(l)"
   ]
  },
  {
   "cell_type": "code",
   "execution_count": 4,
   "metadata": {},
   "outputs": [
    {
     "name": "stdout",
     "output_type": "stream",
     "text": [
      "['0001.jpg', '0002.jpg', '0003.jpg', '0004.jpg', '0005.jpg', '0006.jpg', '0007.jpg', '0008.jpg', '0009.jpg', '0010.jpg', '0011.jpg', '0012.jpg', '0013.jpg', '0014.jpg', '0015.jpg', '0016.jpg', '0017.jpg', '0018.jpg', '0019.jpg', '0020.jpg', '0021.jpg', '0022.jpg', '0023.jpg', '0024.jpg', '0025.jpg', '0026.jpg', '0027.jpg', '0028.jpg', '0029.jpg', '0030.jpg', '0031.jpg', '0032.jpg', '0033.jpg', '0034.jpg', '0035.jpg', '0036.jpg', '0037.jpg', '0038.jpg', '0039.jpg', '0040.jpg', '0041.jpg', '0042.jpg', '0043.jpg', '0044.jpg', '0045.jpg', '0046.jpg', '0047.jpg', '0048.jpg', '0049.jpg', '0050.jpg', '0051.jpg', '0052.jpg', '0053.jpg', '0054.jpg', '0055.jpg', '0056.jpg', '0057.jpg', '0058.jpg', '0059.jpg', '0060.jpg', '0061.jpg', '0062.jpg', '0063.jpg', '0064.jpg', '0065.jpg', '0066.jpg', '0067.jpg', '0068.jpg', '0069.jpg', '0070.jpg', '0071.jpg', '0072.jpg', '0073.jpg', '0074.jpg', '0075.jpg']\n"
     ]
    }
   ],
   "source": [
    "print(original_files)"
   ]
  },
  {
   "cell_type": "code",
   "execution_count": 5,
   "metadata": {},
   "outputs": [],
   "source": [
    "import cv2\n",
    "import numpy\n",
    "import matplotlib.pyplot as plt"
   ]
  },
  {
   "cell_type": "code",
   "execution_count": 6,
   "metadata": {},
   "outputs": [],
   "source": [
    "def get_image_mask(ind):\n",
    "    original = original_files[ind]\n",
    "    original = cv2.imread(original_path + '/' + original)\n",
    "    \n",
    "    u2net = u2net_files[ind]\n",
    "    u2net = cv2.imread(u2net_path + '/' + u2net)\n",
    "    \n",
    "    isnet = isnet_files[ind]\n",
    "    isnet = cv2.imread(isnet_path + '/' + isnet)\n",
    "    \n",
    "    tracer = tracer_files[ind]\n",
    "    tracer = cv2.imread(tracer_path + '/' + tracer)\n",
    "    \n",
    "    return original, u2net, isnet, tracer"
   ]
  },
  {
   "cell_type": "code",
   "execution_count": 7,
   "metadata": {},
   "outputs": [
    {
     "name": "stdout",
     "output_type": "stream",
     "text": [
      "<class 'numpy.ndarray'> (1920, 1080, 3)\n",
      "<class 'numpy.ndarray'> (1920, 1080, 3)\n",
      "<class 'numpy.ndarray'> (1920, 1080, 3)\n",
      "<class 'numpy.ndarray'> (1920, 1080, 3)\n"
     ]
    }
   ],
   "source": [
    "o, u2, i, t = get_image_mask(5)\n",
    "print(type(o), o.shape)\n",
    "print(type(u2), u2.shape)\n",
    "print(type(i), i.shape)\n",
    "print(type(t), t.shape)"
   ]
  },
  {
   "cell_type": "code",
   "execution_count": 8,
   "metadata": {},
   "outputs": [],
   "source": [
    "fig, plts = plt.subplots(1, 4)\n",
    "fig.set_size_inches(15, 10)\n",
    "\n",
    "choices = []\n",
    "\n",
    "for ind in range(75):\n",
    "    o, u2, i, t = get_image_mask(ind)    \n",
    "\n",
    "    plts[0].imshow(o)\n",
    "    plts[0].set_title(\"Original image\")\n",
    "\n",
    "    plts[1].imshow(u2)\n",
    "    plts[1].set_title(\"U2-net mask\")\n",
    "\n",
    "    plts[2].imshow(i)\n",
    "    plts[2].set_title(\"IS-net mask\")\n",
    "\n",
    "    plts[3].imshow(t)\n",
    "    plts[3].set_title(\"TRACER mask\")\n",
    "\n",
    "    # print('combined/' + original_files[ind][:-3] + 'png', \"saved\")\n",
    "    # plt.savefig('combined/' + original_files[ind][:-3] + 'png')\n",
    "    # plt.show()\n",
    "    choice = int(input(\"Chooce the mask : \"))\n",
    "    choices.append(choice)"
   ]
  },
  {
   "cell_type": "code",
   "execution_count": null,
   "metadata": {},
   "outputs": [],
   "source": []
  },
  {
   "cell_type": "code",
   "execution_count": null,
   "metadata": {},
   "outputs": [],
   "source": []
  },
  {
   "cell_type": "code",
   "execution_count": null,
   "metadata": {},
   "outputs": [],
   "source": []
  }
 ],
 "metadata": {
  "kernelspec": {
   "display_name": "Python 3.8.10 64-bit",
   "language": "python",
   "name": "python3"
  },
  "language_info": {
   "codemirror_mode": {
    "name": "ipython",
    "version": 3
   },
   "file_extension": ".py",
   "mimetype": "text/x-python",
   "name": "python",
   "nbconvert_exporter": "python",
   "pygments_lexer": "ipython3",
   "version": "3.8.10"
  },
  "orig_nbformat": 4,
  "vscode": {
   "interpreter": {
    "hash": "916dbcbb3f70747c44a77c7bcd40155683ae19c65e1c03b4aa3499c5328201f1"
   }
  }
 },
 "nbformat": 4,
 "nbformat_minor": 2
}
